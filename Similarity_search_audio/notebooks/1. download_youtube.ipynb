{
 "cells": [
  {
   "cell_type": "code",
   "execution_count": null,
   "id": "ff227a56",
   "metadata": {},
   "outputs": [],
   "source": [
    "import os\n",
    "import pandas as pd\n",
    "from tqdm.auto import tqdm"
   ]
  },
  {
   "cell_type": "code",
   "execution_count": 3,
   "id": "38134c64-c3be-4596-9d84-dd41733926ac",
   "metadata": {},
   "outputs": [],
   "source": [
    "links = pd.read_csv('../tmp_work_files/lessons.csv')"
   ]
  },
  {
   "cell_type": "code",
   "execution_count": 4,
   "id": "04d71253-4c8a-4cd4-8e96-34eecedbf43c",
   "metadata": {},
   "outputs": [
    {
     "data": {
      "text/html": [
       "<div>\n",
       "<style scoped>\n",
       "    .dataframe tbody tr th:only-of-type {\n",
       "        vertical-align: middle;\n",
       "    }\n",
       "\n",
       "    .dataframe tbody tr th {\n",
       "        vertical-align: top;\n",
       "    }\n",
       "\n",
       "    .dataframe thead th {\n",
       "        text-align: right;\n",
       "    }\n",
       "</style>\n",
       "<table border=\"1\" class=\"dataframe\">\n",
       "  <thead>\n",
       "    <tr style=\"text-align: right;\">\n",
       "      <th></th>\n",
       "      <th>youtube_id</th>\n",
       "      <th>title</th>\n",
       "      <th>duration</th>\n",
       "    </tr>\n",
       "  </thead>\n",
       "  <tbody>\n",
       "    <tr>\n",
       "      <th>0</th>\n",
       "      <td>UH-wifzoTIw</td>\n",
       "      <td>Рав Дов Бегон. Ки Теце.</td>\n",
       "      <td>1424.0</td>\n",
       "    </tr>\n",
       "    <tr>\n",
       "      <th>1</th>\n",
       "      <td>vQ0MkOtVdpM</td>\n",
       "      <td>Рав Реувен Фаерман. Ходеш Элул. Тшува  из любви.</td>\n",
       "      <td>2993.0</td>\n",
       "    </tr>\n",
       "    <tr>\n",
       "      <th>2</th>\n",
       "      <td>uijuXdRTHcA</td>\n",
       "      <td>Рав Элиягу Бережинский. Законы раскаяния по Ра...</td>\n",
       "      <td>3165.0</td>\n",
       "    </tr>\n",
       "    <tr>\n",
       "      <th>3</th>\n",
       "      <td>SIQpwZF-rKE</td>\n",
       "      <td>Рав Рэувен Трушин. Недельная глава Ки Теце.</td>\n",
       "      <td>3020.0</td>\n",
       "    </tr>\n",
       "    <tr>\n",
       "      <th>4</th>\n",
       "      <td>HPX7gvUNfVI</td>\n",
       "      <td>Рав Зеев Мешков. Скоро Рош - Ашана...</td>\n",
       "      <td>2974.0</td>\n",
       "    </tr>\n",
       "    <tr>\n",
       "      <th>...</th>\n",
       "      <td>...</td>\n",
       "      <td>...</td>\n",
       "      <td>...</td>\n",
       "    </tr>\n",
       "    <tr>\n",
       "      <th>849</th>\n",
       "      <td>iGLG7Q8gAJE</td>\n",
       "      <td>Рав Ицхак Рубин. Авину Малкейну.</td>\n",
       "      <td>817.0</td>\n",
       "    </tr>\n",
       "    <tr>\n",
       "      <th>850</th>\n",
       "      <td>cHbyhQjCiLQ</td>\n",
       "      <td>Рав Элиягу Бережинский.Рамбам Мишнэ Тора.Закон...</td>\n",
       "      <td>2559.0</td>\n",
       "    </tr>\n",
       "    <tr>\n",
       "      <th>851</th>\n",
       "      <td>t1lD0SCWFkU</td>\n",
       "      <td>NaN</td>\n",
       "      <td>NaN</td>\n",
       "    </tr>\n",
       "    <tr>\n",
       "      <th>852</th>\n",
       "      <td>PRPqSdKpyWg</td>\n",
       "      <td>NaN</td>\n",
       "      <td>NaN</td>\n",
       "    </tr>\n",
       "    <tr>\n",
       "      <th>853</th>\n",
       "      <td>cafBPAiDwTY</td>\n",
       "      <td>NaN</td>\n",
       "      <td>NaN</td>\n",
       "    </tr>\n",
       "  </tbody>\n",
       "</table>\n",
       "<p>854 rows × 3 columns</p>\n",
       "</div>"
      ],
      "text/plain": [
       "      youtube_id                                              title  duration\n",
       "0    UH-wifzoTIw                            Рав Дов Бегон. Ки Теце.    1424.0\n",
       "1    vQ0MkOtVdpM   Рав Реувен Фаерман. Ходеш Элул. Тшува  из любви.    2993.0\n",
       "2    uijuXdRTHcA  Рав Элиягу Бережинский. Законы раскаяния по Ра...    3165.0\n",
       "3    SIQpwZF-rKE        Рав Рэувен Трушин. Недельная глава Ки Теце.    3020.0\n",
       "4    HPX7gvUNfVI              Рав Зеев Мешков. Скоро Рош - Ашана...    2974.0\n",
       "..           ...                                                ...       ...\n",
       "849  iGLG7Q8gAJE                   Рав Ицхак Рубин. Авину Малкейну.     817.0\n",
       "850  cHbyhQjCiLQ  Рав Элиягу Бережинский.Рамбам Мишнэ Тора.Закон...    2559.0\n",
       "851  t1lD0SCWFkU                                                NaN       NaN\n",
       "852  PRPqSdKpyWg                                                NaN       NaN\n",
       "853  cafBPAiDwTY                                                NaN       NaN\n",
       "\n",
       "[854 rows x 3 columns]"
      ]
     },
     "execution_count": 4,
     "metadata": {},
     "output_type": "execute_result"
    }
   ],
   "source": [
    "links"
   ]
  },
  {
   "cell_type": "code",
   "execution_count": 4,
   "id": "822ef42e-6ca5-4cae-bc61-e469169a70c1",
   "metadata": {},
   "outputs": [],
   "source": [
    "main_url = \"https://www.youtube.com/watch?v=\""
   ]
  },
  {
   "cell_type": "code",
   "execution_count": 5,
   "id": "b37c7018-8c8b-40cf-b4fa-70177a6f8cb5",
   "metadata": {},
   "outputs": [],
   "source": [
    "import yt_dlp"
   ]
  },
  {
   "cell_type": "code",
   "execution_count": 6,
   "id": "0941e4da-b2e3-44e6-9084-6c911d37c703",
   "metadata": {},
   "outputs": [],
   "source": [
    "ydl_opts = {\n",
    "    'format': 'm4a/bestaudio/best',\n",
    "    # ℹ️ See help(yt_dlp.postprocessor) for a list of available Postprocessors and their arguments\n",
    "    'postprocessors': [{  # Extract audio using ffmpeg\n",
    "        'key': 'FFmpegExtractAudio',\n",
    "        'preferredcodec': 'm4a',\n",
    "    }],\n",
    "    \"outtmpl\": \"%(title)s #%(upload_date>%d-%m-%Y)s# [%(id)s].%(ext)s\",\n",
    "    \"quiet\": True,\n",
    "    \"no_warnings\": True\n",
    "}"
   ]
  },
  {
   "cell_type": "code",
   "execution_count": 7,
   "id": "a6410393-3b8b-4e35-93b6-3c1bb4a8f26b",
   "metadata": {},
   "outputs": [],
   "source": [
    "os.chdir('../tmp_work_files/audio_files')"
   ]
  },
  {
   "cell_type": "code",
   "execution_count": 30,
   "id": "526ff699-210f-4c96-b314-86d5722ff049",
   "metadata": {
    "scrolled": true
   },
   "outputs": [
    {
     "data": {
      "application/vnd.jupyter.widget-view+json": {
       "model_id": "2d7e8c2801514a08b7a9714fe06376dc",
       "version_major": 2,
       "version_minor": 0
      },
      "text/plain": [
       "  0%|          | 0/817 [00:00<?, ?it/s]"
      ]
     },
     "metadata": {},
     "output_type": "display_data"
    },
    {
     "name": "stderr",
     "output_type": "stream",
     "text": [
      "ERROR: [youtube] AhoOJDi19I4: Video unavailable. This video has been removed by the uploader\n"
     ]
    },
    {
     "name": "stdout",
     "output_type": "stream",
     "text": [
      "0\n",
      "[download]  39.2% of   30.53MiB at   14.40MiB/s ETA 00:01  "
     ]
    },
    {
     "name": "stderr",
     "output_type": "stream",
     "text": [
      "[download] Got error: 2146248 bytes read, 8046500 more expected\n"
     ]
    },
    {
     "name": "stdout",
     "output_type": "stream",
     "text": [
      "0\n",
      "                                                           \r"
     ]
    },
    {
     "name": "stderr",
     "output_type": "stream",
     "text": [
      "ERROR: [youtube] FsAH08xEwgk: Video unavailable\n"
     ]
    },
    {
     "name": "stdout",
     "output_type": "stream",
     "text": [
      "0\n",
      "                                                           \r"
     ]
    },
    {
     "name": "stderr",
     "output_type": "stream",
     "text": [
      "ERROR: [youtube] ey7mo-hNK-M: Video unavailable\n"
     ]
    },
    {
     "name": "stdout",
     "output_type": "stream",
     "text": [
      "0\n",
      "                                                           \r"
     ]
    }
   ],
   "source": [
    "with yt_dlp.YoutubeDL(ydl_opts) as ydl:\n",
    "    for i in tqdm(range(36, 853)):\n",
    "        path = main_url + links.loc[i, 'youtube_id']\n",
    "        try:\n",
    "            error_code = ydl.download(path)\n",
    "        except:\n",
    "            print(error_code)"
   ]
  },
  {
   "cell_type": "code",
   "execution_count": 31,
   "id": "88e38ea5-8ef6-4a70-8bda-0c039b7df9ad",
   "metadata": {},
   "outputs": [
    {
     "data": {
      "text/plain": [
       "'Рав Авраам Адлер. Тайны тшувы (2). #12-09-2023# [PRPqSdKpyWg].m4a'"
      ]
     },
     "execution_count": 31,
     "metadata": {},
     "output_type": "execute_result"
    }
   ],
   "source": [
    "\"Рав Авраам Адлер. Тайны тшувы (2). #12-09-2023# [PRPqSdKpyWg].m4a\""
   ]
  },
  {
   "cell_type": "code",
   "execution_count": 8,
   "id": "8a0c80fe-a1bd-4e65-98f0-5ed1949c5d84",
   "metadata": {},
   "outputs": [
    {
     "name": "stdout",
     "output_type": "stream",
     "text": [
      "                                                         \r"
     ]
    }
   ],
   "source": [
    "with yt_dlp.YoutubeDL(ydl_opts) as ydl:\n",
    "    error_code = ydl.download(main_url + 'kSlA3w1wrxc')"
   ]
  },
  {
   "cell_type": "code",
   "execution_count": 9,
   "id": "075627e4-a48d-4a54-9d91-b1bbf5fa716b",
   "metadata": {},
   "outputs": [
    {
     "data": {
      "text/plain": [
       "'https://www.youtube.com/watch?v=kSlA3w1wrxc'"
      ]
     },
     "execution_count": 9,
     "metadata": {},
     "output_type": "execute_result"
    }
   ],
   "source": [
    "main_url + 'kSlA3w1wrxc'"
   ]
  }
 ],
 "metadata": {
  "kernelspec": {
   "display_name": "p310",
   "language": "python",
   "name": "p310"
  },
  "language_info": {
   "codemirror_mode": {
    "name": "ipython",
    "version": 3
   },
   "file_extension": ".py",
   "mimetype": "text/x-python",
   "name": "python",
   "nbconvert_exporter": "python",
   "pygments_lexer": "ipython3",
   "version": "3.10.13"
  }
 },
 "nbformat": 4,
 "nbformat_minor": 5
}
