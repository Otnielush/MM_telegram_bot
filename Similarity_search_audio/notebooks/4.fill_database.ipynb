{
 "cells": [
  {
   "cell_type": "code",
   "execution_count": 36,
   "id": "f677e495-aceb-42e9-9e79-bcada847716b",
   "metadata": {},
   "outputs": [],
   "source": [
    "import json, os\n",
    "import pandas as pd\n",
    "from tqdm.notebook import tqdm\n",
    "from neo4j import GraphDatabase\n",
    "# from neo4j_genai.indexes import create_vector_index\n",
    "import numpy as np\n",
    "import re"
   ]
  },
  {
   "cell_type": "code",
   "execution_count": 37,
   "id": "d49d6eeb-2c2b-4ce4-a567-d4e9d12666ff",
   "metadata": {},
   "outputs": [
    {
     "name": "stdout",
     "output_type": "stream",
     "text": [
      "Connection established.\n"
     ]
    }
   ],
   "source": [
    "with open(r\"D:\\BrainyBlaze\\BB_Repos\\access\\neo4j.json\", 'r') as f:\n",
    "    neo4j_creds = json.load(f)\n",
    "\n",
    "if 0:   # cloud base\n",
    "    pass\n",
    "    # URI = neo4j_creds['url']\n",
    "    # AUTH = (neo4j_creds['user'], neo4j_creds['password'])\n",
    "    # Database=neo4j_creds['database']\n",
    "else:  # local\n",
    "    URI = \"bolt://localhost:7687\"\n",
    "    AUTH = ('neo4j', neo4j_creds['password'])\n",
    "    Database='mm-lessons'  # manual ravgptv4 neo4j\n",
    "    \n",
    "VECTOR_INDEX_NAME = \"lessons_text_embd\"  # Part\n",
    "# Connect to Neo4j database\n",
    "driver = GraphDatabase.driver(URI, auth=AUTH, max_connection_pool_size=25)\n",
    "driver.verify_connectivity()\n",
    "print(\"Connection established.\")"
   ]
  },
  {
   "cell_type": "code",
   "execution_count": 3,
   "id": "6b38e6cc-e4c3-4926-a182-e0582faf3823",
   "metadata": {},
   "outputs": [],
   "source": [
    "folder = r\"D:\\Programming\\My_reps\\Similarity_search_audio\\tmp_work_files\\texts_from_audio\"\n",
    "embd_folder = r\"D:\\Programming\\My_reps\\Similarity_search_audio\\tmp_work_files\\embeddings_for_texts_openai\""
   ]
  },
  {
   "cell_type": "code",
   "execution_count": 4,
   "id": "82da1f07-edaf-4f7e-a0af-c84583635aba",
   "metadata": {},
   "outputs": [
    {
     "data": {
      "text/plain": [
       "50"
      ]
     },
     "execution_count": 4,
     "metadata": {},
     "output_type": "execute_result"
    }
   ],
   "source": [
    "with open(os.path.join(folder, 'uploaded_files.txt'), 'r') as f:\n",
    "    uploaded_files = [p.replace('\\n', '') for p in f.readlines()]\n",
    "    \n",
    "def update_processed(filename):\n",
    "    global uploaded_files\n",
    "    uploaded_files.append(os.path.basename(filename))\n",
    "    with open(os.path.join(folder, 'uploaded_files.txt'), 'a') as f:\n",
    "        f.writelines(uploaded_files[-1 ]+ '\\n')\n",
    "\n",
    "len(uploaded_files)"
   ]
  },
  {
   "cell_type": "raw",
   "id": "02503c2b-baa6-469c-b097-af5f9afb7be8",
   "metadata": {},
   "source": [
    "cur_file = tqdm([f for f in os.listdir(folder) if f.endswith('csv')])\n",
    "for filename in cur_file:\n",
    "    cur_file.set_description(filename[:40])\n",
    "    youtube_link = re.search(r\"(\\[[^\\]]+\\]).csv$\", filename).group(1)\n",
    "    update_processed(youtube_link)"
   ]
  },
  {
   "cell_type": "code",
   "execution_count": null,
   "id": "54023d4e-f8c6-4d60-b79b-ddf9ea330830",
   "metadata": {},
   "outputs": [],
   "source": []
  },
  {
   "cell_type": "code",
   "execution_count": 9,
   "id": "42b6e440-396d-426f-b5cd-4d687afcf157",
   "metadata": {},
   "outputs": [],
   "source": [
    "filename = \"Рав Элиягу Бережинский. Рамбам , Пиркей Авот (8). #09-09-2024# [aN02ju-GWRk].csv\""
   ]
  },
  {
   "cell_type": "code",
   "execution_count": 10,
   "id": "4c95c7fb-eec2-438f-90ad-79a0bcdc17b5",
   "metadata": {},
   "outputs": [
    {
     "data": {
      "text/plain": [
       "'[aN02ju-GWRk]'"
      ]
     },
     "execution_count": 10,
     "metadata": {},
     "output_type": "execute_result"
    }
   ],
   "source": [
    "re.search(r\"(\\[[^\\]]+\\]).csv$\", filename).group(1)"
   ]
  },
  {
   "cell_type": "code",
   "execution_count": 11,
   "id": "02f30588-edc9-4628-b668-1e007e959609",
   "metadata": {},
   "outputs": [
    {
     "data": {
      "text/plain": [
       "'09-09-2024'"
      ]
     },
     "execution_count": 11,
     "metadata": {},
     "output_type": "execute_result"
    }
   ],
   "source": [
    "re.search(r\" #([^#]+)# \", filename).group(1)"
   ]
  },
  {
   "cell_type": "code",
   "execution_count": 17,
   "id": "4631bf35-1148-4cbd-bc17-c7359507a49e",
   "metadata": {},
   "outputs": [],
   "source": []
  },
  {
   "cell_type": "code",
   "execution_count": 5,
   "id": "0f4417b7-acda-46de-bcf1-fa8fd14a38b8",
   "metadata": {},
   "outputs": [
    {
     "data": {
      "application/vnd.jupyter.widget-view+json": {
       "model_id": "e61a299d00934f81b3af46edf45c031a",
       "version_major": 2,
       "version_minor": 0
      },
      "text/plain": [
       "  0%|          | 0/847 [00:00<?, ?it/s]"
      ]
     },
     "metadata": {},
     "output_type": "display_data"
    }
   ],
   "source": [
    "# whole Lesson summarization\n",
    "cur_file = tqdm([f for f in os.listdir(folder) if f.endswith('csv')])\n",
    "for filename in cur_file:\n",
    "    cur_file.set_description(filename[:40])\n",
    "    youtube_link = re.search(r\"(\\[[^\\]]+\\]).csv$\", filename).group(1)\n",
    "    if youtube_link in uploaded_files:\n",
    "        continue\n",
    "\n",
    "    upload_date = re.search(r\" #([^#]+)# \", filename).group(1)\n",
    "    file_path = os.path.join(folder, filename)\n",
    "    ds = pd.read_csv(file_path)\n",
    "    text = ds.loc[:, 'text'].tolist()\n",
    "    embeddings = np.load(os.path.join(embd_folder, os.path.splitext(filename)[0] + '.text.npy'))\n",
    "\n",
    "    name = os.path.splitext(filename)[0].split(' #')[0]\n",
    "    properties = {\"name\": name, \"rav\": None}\n",
    "\n",
    "    lesson_node = driver.execute_query(\"CREATE (a:Lesson) SET a += $props RETURN a\", props=properties, database_=Database)\n",
    "    lesson_element_id = lesson_node[0][0]['a'].element_id\n",
    "\n",
    "    for idx in range(len(text)):\n",
    "        if len(text[idx].strip()) == 0:\n",
    "            continue\n",
    "        properties = {\"lesson_name\": name, 'part': idx + 1, \"embeddings\": embeddings[idx], \"text\": text[idx], \n",
    "                      'time_start': ds.loc[idx, 'start'], \"time_end\": ds.loc[idx, 'end'], \"youtube_id\": youtube_link[1:-1],\n",
    "                     \"upload_date\": upload_date, \"_date_sort\": int(''.join(upload_date.split('-')[::-1]))}\n",
    "        \n",
    "        summary = driver.execute_query(\"\"\"CREATE (txt:Part)\n",
    "                SET txt += $props\n",
    "                    WITH txt\n",
    "                    MATCH (les)\n",
    "                    WHERE elementId(les) = $les_element_id\n",
    "                    WITH les, txt\n",
    "                    CREATE (les)-[:Text_part]->(txt)\n",
    "                    \"\"\", props=properties, les_element_id=lesson_element_id, \n",
    "                                       database_=Database)\n",
    "    \n",
    "    update_processed(youtube_link)"
   ]
  },
  {
   "cell_type": "code",
   "execution_count": 30,
   "id": "a8aaf3de-732f-420e-90b0-ab0050346b92",
   "metadata": {},
   "outputs": [
    {
     "data": {
      "text/html": [
       "<div>\n",
       "<style scoped>\n",
       "    .dataframe tbody tr th:only-of-type {\n",
       "        vertical-align: middle;\n",
       "    }\n",
       "\n",
       "    .dataframe tbody tr th {\n",
       "        vertical-align: top;\n",
       "    }\n",
       "\n",
       "    .dataframe thead th {\n",
       "        text-align: right;\n",
       "    }\n",
       "</style>\n",
       "<table border=\"1\" class=\"dataframe\">\n",
       "  <thead>\n",
       "    <tr style=\"text-align: right;\">\n",
       "      <th></th>\n",
       "      <th>start</th>\n",
       "      <th>end</th>\n",
       "      <th>text</th>\n",
       "      <th>summarization</th>\n",
       "    </tr>\n",
       "  </thead>\n",
       "  <tbody>\n",
       "    <tr>\n",
       "      <th>0</th>\n",
       "      <td>0.00</td>\n",
       "      <td>177.00</td>\n",
       "      <td>мы с вами открываем 14 псалом и давайте скажем...</td>\n",
       "      <td>В ходе урока рассматривается 14 псалом Давида....</td>\n",
       "    </tr>\n",
       "    <tr>\n",
       "      <th>1</th>\n",
       "      <td>177.00</td>\n",
       "      <td>411.40</td>\n",
       "      <td>Очень интересно. Я, к сожалению, в музыке не о...</td>\n",
       "      <td>В тексте обсуждается поведение человека, котор...</td>\n",
       "    </tr>\n",
       "    <tr>\n",
       "      <th>2</th>\n",
       "      <td>411.40</td>\n",
       "      <td>537.78</td>\n",
       "      <td>И если вы скажете, что не может быть такого, ч...</td>\n",
       "      <td>В тексте обсуждается тема праведников и их рол...</td>\n",
       "    </tr>\n",
       "    <tr>\n",
       "      <th>3</th>\n",
       "      <td>537.78</td>\n",
       "      <td>713.68</td>\n",
       "      <td>Если человек бесчестный, отвратительный, говор...</td>\n",
       "      <td>В тексте обсуждается важность интеллекта и пон...</td>\n",
       "    </tr>\n",
       "    <tr>\n",
       "      <th>4</th>\n",
       "      <td>713.68</td>\n",
       "      <td>876.96</td>\n",
       "      <td>она дошла до того, я не знаю, как тут сказать,...</td>\n",
       "      <td>В тексте обсуждается история борьбы с определё...</td>\n",
       "    </tr>\n",
       "    <tr>\n",
       "      <th>5</th>\n",
       "      <td>876.96</td>\n",
       "      <td>1068.10</td>\n",
       "      <td>земли так всегда происходит уравнение до уравн...</td>\n",
       "      <td>В тексте обсуждается опасность нивелирования г...</td>\n",
       "    </tr>\n",
       "    <tr>\n",
       "      <th>6</th>\n",
       "      <td>1068.10</td>\n",
       "      <td>1258.64</td>\n",
       "      <td>которые равны то есть естественно что этот спо...</td>\n",
       "      <td>В тексте обсуждается опасность прогрессивизма,...</td>\n",
       "    </tr>\n",
       "    <tr>\n",
       "      <th>7</th>\n",
       "      <td>1258.64</td>\n",
       "      <td>1440.96</td>\n",
       "      <td>который призывал Всевышнего, искал Всевышнего,...</td>\n",
       "      <td>В тексте обсуждается проблема понимания собств...</td>\n",
       "    </tr>\n",
       "    <tr>\n",
       "      <th>8</th>\n",
       "      <td>1440.96</td>\n",
       "      <td>1615.82</td>\n",
       "      <td>Ну и, может быть, и правильно делаем, иногда в...</td>\n",
       "      <td>В тексте обсуждается сложность выбора между те...</td>\n",
       "    </tr>\n",
       "    <tr>\n",
       "      <th>9</th>\n",
       "      <td>1615.82</td>\n",
       "      <td>1798.12</td>\n",
       "      <td>То, что в Шаваке называется «Малката райот». К...</td>\n",
       "      <td>В тексте обсуждается тема самообвинения под пы...</td>\n",
       "    </tr>\n",
       "    <tr>\n",
       "      <th>10</th>\n",
       "      <td>1798.12</td>\n",
       "      <td>1974.62</td>\n",
       "      <td>В то, скажем, обвинять кого-то, не обвинять, н...</td>\n",
       "      <td>В тексте обсуждается проблема коррумпированных...</td>\n",
       "    </tr>\n",
       "    <tr>\n",
       "      <th>11</th>\n",
       "      <td>1974.62</td>\n",
       "      <td>2165.64</td>\n",
       "      <td>К чести, да, к чести Юлика Эдельштейна, о кото...</td>\n",
       "      <td>В ходе урока обсуждался пример Юлика Эдельштей...</td>\n",
       "    </tr>\n",
       "    <tr>\n",
       "      <th>12</th>\n",
       "      <td>2165.64</td>\n",
       "      <td>2390.18</td>\n",
       "      <td>Когда фараон спросил, что мне делать с евреями...</td>\n",
       "      <td>В тексте обсуждается тема молчания в ситуации ...</td>\n",
       "    </tr>\n",
       "    <tr>\n",
       "      <th>13</th>\n",
       "      <td>2390.18</td>\n",
       "      <td>2481.02</td>\n",
       "      <td>Они там, на том месте, где они, они боятся, он...</td>\n",
       "      <td>В тексте обсуждается страх нечестивых людей, т...</td>\n",
       "    </tr>\n",
       "    <tr>\n",
       "      <th>14</th>\n",
       "      <td>2481.02</td>\n",
       "      <td>2684.70</td>\n",
       "      <td>За ним шло как минимум 25% населения. Он заран...</td>\n",
       "      <td>В тексте обсуждается вопрос о том, как действо...</td>\n",
       "    </tr>\n",
       "    <tr>\n",
       "      <th>15</th>\n",
       "      <td>2684.70</td>\n",
       "      <td>2881.36</td>\n",
       "      <td>Кихашем Махасеву, потому что Всевышний его защ...</td>\n",
       "      <td>В тексте обсуждается тема веры и упора на Всев...</td>\n",
       "    </tr>\n",
       "    <tr>\n",
       "      <th>16</th>\n",
       "      <td>2881.36</td>\n",
       "      <td>3021.48</td>\n",
       "      <td>Вы что думаете? Очень просто праведная женщина...</td>\n",
       "      <td>В тексте обсуждается поведение праведной женщи...</td>\n",
       "    </tr>\n",
       "    <tr>\n",
       "      <th>17</th>\n",
       "      <td>3021.48</td>\n",
       "      <td>3229.50</td>\n",
       "      <td>Да, там ситца его кровь разрешили начальник на...</td>\n",
       "      <td>В ходе урока обсуждалась тема поиска достойног...</td>\n",
       "    </tr>\n",
       "    <tr>\n",
       "      <th>18</th>\n",
       "      <td>3229.50</td>\n",
       "      <td>3413.70</td>\n",
       "      <td>и здесь трактате трактате суток на сорок восьм...</td>\n",
       "      <td>В трактате говорится о том, что отменилась пес...</td>\n",
       "    </tr>\n",
       "    <tr>\n",
       "      <th>19</th>\n",
       "      <td>3413.70</td>\n",
       "      <td>3563.20</td>\n",
       "      <td>Когда главный Сангедрин не сидит в храме, напр...</td>\n",
       "      <td>В тексте обсуждается ситуация, когда главный С...</td>\n",
       "    </tr>\n",
       "    <tr>\n",
       "      <th>20</th>\n",
       "      <td>3563.20</td>\n",
       "      <td>3771.14</td>\n",
       "      <td>понижает моральный уровень, да, а для того, чт...</td>\n",
       "      <td>В тексте обсуждается важность пения песен Всев...</td>\n",
       "    </tr>\n",
       "  </tbody>\n",
       "</table>\n",
       "</div>"
      ],
      "text/plain": [
       "      start      end                                               text  \\\n",
       "0      0.00   177.00  мы с вами открываем 14 псалом и давайте скажем...   \n",
       "1    177.00   411.40  Очень интересно. Я, к сожалению, в музыке не о...   \n",
       "2    411.40   537.78  И если вы скажете, что не может быть такого, ч...   \n",
       "3    537.78   713.68  Если человек бесчестный, отвратительный, говор...   \n",
       "4    713.68   876.96  она дошла до того, я не знаю, как тут сказать,...   \n",
       "5    876.96  1068.10  земли так всегда происходит уравнение до уравн...   \n",
       "6   1068.10  1258.64  которые равны то есть естественно что этот спо...   \n",
       "7   1258.64  1440.96  который призывал Всевышнего, искал Всевышнего,...   \n",
       "8   1440.96  1615.82  Ну и, может быть, и правильно делаем, иногда в...   \n",
       "9   1615.82  1798.12  То, что в Шаваке называется «Малката райот». К...   \n",
       "10  1798.12  1974.62  В то, скажем, обвинять кого-то, не обвинять, н...   \n",
       "11  1974.62  2165.64  К чести, да, к чести Юлика Эдельштейна, о кото...   \n",
       "12  2165.64  2390.18  Когда фараон спросил, что мне делать с евреями...   \n",
       "13  2390.18  2481.02  Они там, на том месте, где они, они боятся, он...   \n",
       "14  2481.02  2684.70  За ним шло как минимум 25% населения. Он заран...   \n",
       "15  2684.70  2881.36  Кихашем Махасеву, потому что Всевышний его защ...   \n",
       "16  2881.36  3021.48  Вы что думаете? Очень просто праведная женщина...   \n",
       "17  3021.48  3229.50  Да, там ситца его кровь разрешили начальник на...   \n",
       "18  3229.50  3413.70  и здесь трактате трактате суток на сорок восьм...   \n",
       "19  3413.70  3563.20  Когда главный Сангедрин не сидит в храме, напр...   \n",
       "20  3563.20  3771.14  понижает моральный уровень, да, а для того, чт...   \n",
       "\n",
       "                                        summarization  \n",
       "0   В ходе урока рассматривается 14 псалом Давида....  \n",
       "1   В тексте обсуждается поведение человека, котор...  \n",
       "2   В тексте обсуждается тема праведников и их рол...  \n",
       "3   В тексте обсуждается важность интеллекта и пон...  \n",
       "4   В тексте обсуждается история борьбы с определё...  \n",
       "5   В тексте обсуждается опасность нивелирования г...  \n",
       "6   В тексте обсуждается опасность прогрессивизма,...  \n",
       "7   В тексте обсуждается проблема понимания собств...  \n",
       "8   В тексте обсуждается сложность выбора между те...  \n",
       "9   В тексте обсуждается тема самообвинения под пы...  \n",
       "10  В тексте обсуждается проблема коррумпированных...  \n",
       "11  В ходе урока обсуждался пример Юлика Эдельштей...  \n",
       "12  В тексте обсуждается тема молчания в ситуации ...  \n",
       "13  В тексте обсуждается страх нечестивых людей, т...  \n",
       "14  В тексте обсуждается вопрос о том, как действо...  \n",
       "15  В тексте обсуждается тема веры и упора на Всев...  \n",
       "16  В тексте обсуждается поведение праведной женщи...  \n",
       "17  В ходе урока обсуждалась тема поиска достойног...  \n",
       "18  В трактате говорится о том, что отменилась пес...  \n",
       "19  В тексте обсуждается ситуация, когда главный С...  \n",
       "20  В тексте обсуждается важность пения песен Всев...  "
      ]
     },
     "execution_count": 30,
     "metadata": {},
     "output_type": "execute_result"
    }
   ],
   "source": [
    "ds"
   ]
  },
  {
   "cell_type": "markdown",
   "id": "46319231-da99-4c74-828e-e549b1ba421b",
   "metadata": {},
   "source": [
    "---"
   ]
  },
  {
   "cell_type": "markdown",
   "id": "0ea7cb03-9d84-441c-928e-0cdf8af26da7",
   "metadata": {},
   "source": [
    "# Create vector index"
   ]
  },
  {
   "cell_type": "raw",
   "id": "39607070-5fa7-48c2-a31b-89d8db253979",
   "metadata": {},
   "source": [
    "# Creating the index\n",
    "create_vector_index(driver, VECTOR_INDEX_NAME, label=\"Part\", embedding_property=\"embeddings\", dimensions=1536,\n",
    "    similarity_fn=\"cosine\", neo4j_database=Database)"
   ]
  },
  {
   "cell_type": "raw",
   "id": "222fec40-1e94-4144-a9e0-a8ee9011244b",
   "metadata": {},
   "source": [
    "drop_index_if_exists(driver, VECTOR_INDEX_NAME, neo4j_database=Database)"
   ]
  },
  {
   "cell_type": "code",
   "execution_count": null,
   "id": "8ac94aa5-32d7-495f-82e4-25d504e6016d",
   "metadata": {},
   "outputs": [],
   "source": []
  },
  {
   "cell_type": "markdown",
   "id": "f795b451-39f1-4f96-ae95-a2908fb1e05d",
   "metadata": {},
   "source": [
    "# CLEAR DATABASE"
   ]
  },
  {
   "cell_type": "code",
   "execution_count": 38,
   "id": "9b04c6a5",
   "metadata": {},
   "outputs": [],
   "source": [
    "db = 'manual'"
   ]
  },
  {
   "cell_type": "code",
   "execution_count": 46,
   "id": "1c158a9d-b17b-4f36-a2e4-7e92b7823bf5",
   "metadata": {},
   "outputs": [
    {
     "data": {
      "text/plain": [
       "EagerResult(records=[], summary=<neo4j._work.summary.ResultSummary object at 0x0000014AC58816F0>, keys=[])"
      ]
     },
     "execution_count": 46,
     "metadata": {},
     "output_type": "execute_result"
    }
   ],
   "source": [
    "driver.execute_query(\"match (a) -[r] -> () DELETE a, r\", database_=db)\n",
    "driver.execute_query(\"match (a) delete a\", database_=db)"
   ]
  },
  {
   "cell_type": "code",
   "execution_count": null,
   "id": "12987a09-9d08-407e-a8c3-98543ff03f45",
   "metadata": {},
   "outputs": [],
   "source": []
  }
 ],
 "metadata": {
  "kernelspec": {
   "display_name": "p310",
   "language": "python",
   "name": "p310"
  },
  "language_info": {
   "codemirror_mode": {
    "name": "ipython",
    "version": 3
   },
   "file_extension": ".py",
   "mimetype": "text/x-python",
   "name": "python",
   "nbconvert_exporter": "python",
   "pygments_lexer": "ipython3",
   "version": "3.10.13"
  }
 },
 "nbformat": 4,
 "nbformat_minor": 5
}
